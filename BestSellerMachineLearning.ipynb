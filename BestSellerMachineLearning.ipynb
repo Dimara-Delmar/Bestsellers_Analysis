{
 "cells": [
  {
   "cell_type": "code",
   "execution_count": 1,
   "metadata": {
    "collapsed": true,
    "pycharm": {
     "is_executing": true
    }
   },
   "outputs": [],
   "source": [
    "#fix weeks on list to what we are finding, how long weeks on list\n",
    "import warnings\n",
    "warnings.filterwarnings('ignore')"
   ]
  },
  {
   "cell_type": "code",
   "execution_count": 2,
   "metadata": {
    "collapsed": false
   },
   "outputs": [],
   "source": [
    "import numpy as np\n",
    "import pandas as pd\n",
    "from pathlib import Path\n",
    "from collections import Counter"
   ]
  },
  {
   "cell_type": "code",
   "execution_count": 3,
   "metadata": {
    "collapsed": false
   },
   "outputs": [],
   "source": [
    "from sklearn.metrics import balanced_accuracy_score\n",
    "from sklearn.metrics import confusion_matrix\n",
    "from imblearn.metrics import classification_report_imbalanced"
   ]
  },
  {
   "cell_type": "code",
   "execution_count": 13,
   "metadata": {
    "collapsed": false
   },
   "outputs": [],
   "source": [
    "file_path = Path('cleaned_best_seller_code.csv')\n",
    "df = pd.read_csv(file_path)"
   ]
  },
  {
   "cell_type": "code",
   "execution_count": 15,
   "metadata": {},
   "outputs": [],
   "source": [
    "#binning the data\n",
    "bins= [0,4,15,25,55,610]\n",
    "labels= [\"0-4 weeks\",\"5-15 weeks\",\"16-25 weeks\",\"26-55 weeks\",\"56-610 weeks\"]\n",
    "df['bin_weeks_on_list']= pd.cut(df['weeks_on_list'] , bins=bins, labels= labels, include_lowest=True)"
   ]
  },
  {
   "cell_type": "code",
   "execution_count": 16,
   "metadata": {
    "collapsed": false
   },
   "outputs": [],
   "source": [
    "#getting X and y\n",
    "X = df.drop('bin_weeks_on_list',axis= 1)\n",
    "X = pd.get_dummies(X)\n",
    "y= df['bin_weeks_on_list']"
   ]
  },
  {
   "cell_type": "code",
   "execution_count": 19,
   "metadata": {
    "collapsed": false
   },
   "outputs": [
    {
     "data": {
      "text/html": [
       "<div>\n",
       "<style scoped>\n",
       "    .dataframe tbody tr th:only-of-type {\n",
       "        vertical-align: middle;\n",
       "    }\n",
       "\n",
       "    .dataframe tbody tr th {\n",
       "        vertical-align: top;\n",
       "    }\n",
       "\n",
       "    .dataframe thead th {\n",
       "        text-align: right;\n",
       "    }\n",
       "</style>\n",
       "<table border=\"1\" class=\"dataframe\">\n",
       "  <thead>\n",
       "    <tr style=\"text-align: right;\">\n",
       "      <th></th>\n",
       "      <th>rank</th>\n",
       "      <th>price</th>\n",
       "      <th>weeks_on_list</th>\n",
       "      <th>published_date_2010-01-03</th>\n",
       "      <th>published_date_2010-01-10</th>\n",
       "      <th>published_date_2010-01-17</th>\n",
       "      <th>published_date_2010-01-24</th>\n",
       "      <th>published_date_2010-01-31</th>\n",
       "      <th>published_date_2010-02-07</th>\n",
       "      <th>published_date_2010-02-14</th>\n",
       "      <th>...</th>\n",
       "      <th>description_ Is this the end of humanity? It sure looks that way when what is left of mankind must go into hiding to escape the giant humanoids known as the Titans.</th>\n",
       "      <th>description_ Searching for her sister’s killer, a former F.B.I. researcher finds a link between scores of apparently unconnected unsolved cases. Now she must convince her boss and her former boyfriend that this killer is real.</th>\n",
       "      <th>description_ The final book of the Hollows series.</th>\n",
       "      <th>description_’Night, Baby Llama.</th>\n",
       "      <th>description_“Barefoot Contessa” recipes with instructions on preparing, assembling or cooking meals ahead of time.</th>\n",
       "      <th>description_“Dear Sugar” advice columns.</th>\n",
       "      <th>description_“Hawkguy” rallies his neighbors and his brother to help protect his building from hired assassins and tracksuit–wearing thugs.</th>\n",
       "      <th>description_“He’ll ask for some apple juice to go with it,” for starters.</th>\n",
       "      <th>description_“He’ll ask for some apple juice to go with it,” to start things off.</th>\n",
       "      <th>description_“Holy licensing, Batman!” All of the iconic hallmarks and camp sensibilities of the 1960s “Batman” television program are transported to the printed page in this series.</th>\n",
       "    </tr>\n",
       "  </thead>\n",
       "  <tbody>\n",
       "    <tr>\n",
       "      <th>count</th>\n",
       "      <td>51997.000000</td>\n",
       "      <td>51997.000000</td>\n",
       "      <td>51997.000000</td>\n",
       "      <td>51997.000000</td>\n",
       "      <td>51997.000000</td>\n",
       "      <td>51997.000000</td>\n",
       "      <td>51997.000000</td>\n",
       "      <td>51997.000000</td>\n",
       "      <td>51997.000000</td>\n",
       "      <td>51997.000000</td>\n",
       "      <td>...</td>\n",
       "      <td>51997.000000</td>\n",
       "      <td>51997.000000</td>\n",
       "      <td>51997.000000</td>\n",
       "      <td>51997.000000</td>\n",
       "      <td>51997.000000</td>\n",
       "      <td>51997.000000</td>\n",
       "      <td>51997.000000</td>\n",
       "      <td>51997.000000</td>\n",
       "      <td>51997.000000</td>\n",
       "      <td>51997.000000</td>\n",
       "    </tr>\n",
       "    <tr>\n",
       "      <th>mean</th>\n",
       "      <td>2.999731</td>\n",
       "      <td>4.533286</td>\n",
       "      <td>27.229859</td>\n",
       "      <td>0.001327</td>\n",
       "      <td>0.001346</td>\n",
       "      <td>0.001346</td>\n",
       "      <td>0.001346</td>\n",
       "      <td>0.001346</td>\n",
       "      <td>0.001346</td>\n",
       "      <td>0.001346</td>\n",
       "      <td>...</td>\n",
       "      <td>0.000019</td>\n",
       "      <td>0.000019</td>\n",
       "      <td>0.000019</td>\n",
       "      <td>0.000019</td>\n",
       "      <td>0.000327</td>\n",
       "      <td>0.000019</td>\n",
       "      <td>0.000019</td>\n",
       "      <td>0.000135</td>\n",
       "      <td>0.000154</td>\n",
       "      <td>0.000058</td>\n",
       "    </tr>\n",
       "    <tr>\n",
       "      <th>std</th>\n",
       "      <td>1.415247</td>\n",
       "      <td>9.328902</td>\n",
       "      <td>67.540999</td>\n",
       "      <td>0.036404</td>\n",
       "      <td>0.036667</td>\n",
       "      <td>0.036667</td>\n",
       "      <td>0.036667</td>\n",
       "      <td>0.036667</td>\n",
       "      <td>0.036667</td>\n",
       "      <td>0.036667</td>\n",
       "      <td>...</td>\n",
       "      <td>0.004385</td>\n",
       "      <td>0.004385</td>\n",
       "      <td>0.004385</td>\n",
       "      <td>0.004385</td>\n",
       "      <td>0.018079</td>\n",
       "      <td>0.004385</td>\n",
       "      <td>0.004385</td>\n",
       "      <td>0.011602</td>\n",
       "      <td>0.012403</td>\n",
       "      <td>0.007596</td>\n",
       "    </tr>\n",
       "    <tr>\n",
       "      <th>min</th>\n",
       "      <td>1.000000</td>\n",
       "      <td>0.000000</td>\n",
       "      <td>0.000000</td>\n",
       "      <td>0.000000</td>\n",
       "      <td>0.000000</td>\n",
       "      <td>0.000000</td>\n",
       "      <td>0.000000</td>\n",
       "      <td>0.000000</td>\n",
       "      <td>0.000000</td>\n",
       "      <td>0.000000</td>\n",
       "      <td>...</td>\n",
       "      <td>0.000000</td>\n",
       "      <td>0.000000</td>\n",
       "      <td>0.000000</td>\n",
       "      <td>0.000000</td>\n",
       "      <td>0.000000</td>\n",
       "      <td>0.000000</td>\n",
       "      <td>0.000000</td>\n",
       "      <td>0.000000</td>\n",
       "      <td>0.000000</td>\n",
       "      <td>0.000000</td>\n",
       "    </tr>\n",
       "    <tr>\n",
       "      <th>25%</th>\n",
       "      <td>2.000000</td>\n",
       "      <td>0.000000</td>\n",
       "      <td>0.000000</td>\n",
       "      <td>0.000000</td>\n",
       "      <td>0.000000</td>\n",
       "      <td>0.000000</td>\n",
       "      <td>0.000000</td>\n",
       "      <td>0.000000</td>\n",
       "      <td>0.000000</td>\n",
       "      <td>0.000000</td>\n",
       "      <td>...</td>\n",
       "      <td>0.000000</td>\n",
       "      <td>0.000000</td>\n",
       "      <td>0.000000</td>\n",
       "      <td>0.000000</td>\n",
       "      <td>0.000000</td>\n",
       "      <td>0.000000</td>\n",
       "      <td>0.000000</td>\n",
       "      <td>0.000000</td>\n",
       "      <td>0.000000</td>\n",
       "      <td>0.000000</td>\n",
       "    </tr>\n",
       "    <tr>\n",
       "      <th>50%</th>\n",
       "      <td>3.000000</td>\n",
       "      <td>0.000000</td>\n",
       "      <td>3.000000</td>\n",
       "      <td>0.000000</td>\n",
       "      <td>0.000000</td>\n",
       "      <td>0.000000</td>\n",
       "      <td>0.000000</td>\n",
       "      <td>0.000000</td>\n",
       "      <td>0.000000</td>\n",
       "      <td>0.000000</td>\n",
       "      <td>...</td>\n",
       "      <td>0.000000</td>\n",
       "      <td>0.000000</td>\n",
       "      <td>0.000000</td>\n",
       "      <td>0.000000</td>\n",
       "      <td>0.000000</td>\n",
       "      <td>0.000000</td>\n",
       "      <td>0.000000</td>\n",
       "      <td>0.000000</td>\n",
       "      <td>0.000000</td>\n",
       "      <td>0.000000</td>\n",
       "    </tr>\n",
       "    <tr>\n",
       "      <th>75%</th>\n",
       "      <td>4.000000</td>\n",
       "      <td>0.000000</td>\n",
       "      <td>19.000000</td>\n",
       "      <td>0.000000</td>\n",
       "      <td>0.000000</td>\n",
       "      <td>0.000000</td>\n",
       "      <td>0.000000</td>\n",
       "      <td>0.000000</td>\n",
       "      <td>0.000000</td>\n",
       "      <td>0.000000</td>\n",
       "      <td>...</td>\n",
       "      <td>0.000000</td>\n",
       "      <td>0.000000</td>\n",
       "      <td>0.000000</td>\n",
       "      <td>0.000000</td>\n",
       "      <td>0.000000</td>\n",
       "      <td>0.000000</td>\n",
       "      <td>0.000000</td>\n",
       "      <td>0.000000</td>\n",
       "      <td>0.000000</td>\n",
       "      <td>0.000000</td>\n",
       "    </tr>\n",
       "    <tr>\n",
       "      <th>max</th>\n",
       "      <td>5.000000</td>\n",
       "      <td>150.000000</td>\n",
       "      <td>607.000000</td>\n",
       "      <td>1.000000</td>\n",
       "      <td>1.000000</td>\n",
       "      <td>1.000000</td>\n",
       "      <td>1.000000</td>\n",
       "      <td>1.000000</td>\n",
       "      <td>1.000000</td>\n",
       "      <td>1.000000</td>\n",
       "      <td>...</td>\n",
       "      <td>1.000000</td>\n",
       "      <td>1.000000</td>\n",
       "      <td>1.000000</td>\n",
       "      <td>1.000000</td>\n",
       "      <td>1.000000</td>\n",
       "      <td>1.000000</td>\n",
       "      <td>1.000000</td>\n",
       "      <td>1.000000</td>\n",
       "      <td>1.000000</td>\n",
       "      <td>1.000000</td>\n",
       "    </tr>\n",
       "  </tbody>\n",
       "</table>\n",
       "<p>8 rows × 17859 columns</p>\n",
       "</div>"
      ],
      "text/plain": [
       "               rank         price  weeks_on_list  published_date_2010-01-03  \\\n",
       "count  51997.000000  51997.000000   51997.000000               51997.000000   \n",
       "mean       2.999731      4.533286      27.229859                   0.001327   \n",
       "std        1.415247      9.328902      67.540999                   0.036404   \n",
       "min        1.000000      0.000000       0.000000                   0.000000   \n",
       "25%        2.000000      0.000000       0.000000                   0.000000   \n",
       "50%        3.000000      0.000000       3.000000                   0.000000   \n",
       "75%        4.000000      0.000000      19.000000                   0.000000   \n",
       "max        5.000000    150.000000     607.000000                   1.000000   \n",
       "\n",
       "       published_date_2010-01-10  published_date_2010-01-17  \\\n",
       "count               51997.000000               51997.000000   \n",
       "mean                    0.001346                   0.001346   \n",
       "std                     0.036667                   0.036667   \n",
       "min                     0.000000                   0.000000   \n",
       "25%                     0.000000                   0.000000   \n",
       "50%                     0.000000                   0.000000   \n",
       "75%                     0.000000                   0.000000   \n",
       "max                     1.000000                   1.000000   \n",
       "\n",
       "       published_date_2010-01-24  published_date_2010-01-31  \\\n",
       "count               51997.000000               51997.000000   \n",
       "mean                    0.001346                   0.001346   \n",
       "std                     0.036667                   0.036667   \n",
       "min                     0.000000                   0.000000   \n",
       "25%                     0.000000                   0.000000   \n",
       "50%                     0.000000                   0.000000   \n",
       "75%                     0.000000                   0.000000   \n",
       "max                     1.000000                   1.000000   \n",
       "\n",
       "       published_date_2010-02-07  published_date_2010-02-14  ...  \\\n",
       "count               51997.000000               51997.000000  ...   \n",
       "mean                    0.001346                   0.001346  ...   \n",
       "std                     0.036667                   0.036667  ...   \n",
       "min                     0.000000                   0.000000  ...   \n",
       "25%                     0.000000                   0.000000  ...   \n",
       "50%                     0.000000                   0.000000  ...   \n",
       "75%                     0.000000                   0.000000  ...   \n",
       "max                     1.000000                   1.000000  ...   \n",
       "\n",
       "       description_ Is this the end of humanity? It sure looks that way when what is left of mankind must go into hiding to escape the giant humanoids known as the Titans.  \\\n",
       "count                                       51997.000000                                                                                                                      \n",
       "mean                                            0.000019                                                                                                                      \n",
       "std                                             0.004385                                                                                                                      \n",
       "min                                             0.000000                                                                                                                      \n",
       "25%                                             0.000000                                                                                                                      \n",
       "50%                                             0.000000                                                                                                                      \n",
       "75%                                             0.000000                                                                                                                      \n",
       "max                                             1.000000                                                                                                                      \n",
       "\n",
       "       description_ Searching for her sister’s killer, a former F.B.I. researcher finds a link between scores of apparently unconnected unsolved cases. Now she must convince her boss and her former boyfriend that this killer is real.   \\\n",
       "count                                       51997.000000                                                                                                                                                                                     \n",
       "mean                                            0.000019                                                                                                                                                                                     \n",
       "std                                             0.004385                                                                                                                                                                                     \n",
       "min                                             0.000000                                                                                                                                                                                     \n",
       "25%                                             0.000000                                                                                                                                                                                     \n",
       "50%                                             0.000000                                                                                                                                                                                     \n",
       "75%                                             0.000000                                                                                                                                                                                     \n",
       "max                                             1.000000                                                                                                                                                                                     \n",
       "\n",
       "       description_ The final book of the Hollows series.   \\\n",
       "count                                       51997.000000     \n",
       "mean                                            0.000019     \n",
       "std                                             0.004385     \n",
       "min                                             0.000000     \n",
       "25%                                             0.000000     \n",
       "50%                                             0.000000     \n",
       "75%                                             0.000000     \n",
       "max                                             1.000000     \n",
       "\n",
       "       description_’Night, Baby Llama.  \\\n",
       "count                     51997.000000   \n",
       "mean                          0.000019   \n",
       "std                           0.004385   \n",
       "min                           0.000000   \n",
       "25%                           0.000000   \n",
       "50%                           0.000000   \n",
       "75%                           0.000000   \n",
       "max                           1.000000   \n",
       "\n",
       "       description_“Barefoot Contessa” recipes with instructions on preparing, assembling or cooking meals ahead of time.  \\\n",
       "count                                       51997.000000                                                                    \n",
       "mean                                            0.000327                                                                    \n",
       "std                                             0.018079                                                                    \n",
       "min                                             0.000000                                                                    \n",
       "25%                                             0.000000                                                                    \n",
       "50%                                             0.000000                                                                    \n",
       "75%                                             0.000000                                                                    \n",
       "max                                             1.000000                                                                    \n",
       "\n",
       "       description_“Dear Sugar” advice columns.  \\\n",
       "count                              51997.000000   \n",
       "mean                                   0.000019   \n",
       "std                                    0.004385   \n",
       "min                                    0.000000   \n",
       "25%                                    0.000000   \n",
       "50%                                    0.000000   \n",
       "75%                                    0.000000   \n",
       "max                                    1.000000   \n",
       "\n",
       "       description_“Hawkguy” rallies his neighbors and his brother to help protect his building from hired assassins and tracksuit–wearing thugs.  \\\n",
       "count                                       51997.000000                                                                                            \n",
       "mean                                            0.000019                                                                                            \n",
       "std                                             0.004385                                                                                            \n",
       "min                                             0.000000                                                                                            \n",
       "25%                                             0.000000                                                                                            \n",
       "50%                                             0.000000                                                                                            \n",
       "75%                                             0.000000                                                                                            \n",
       "max                                             1.000000                                                                                            \n",
       "\n",
       "       description_“He’ll ask for some apple juice to go with it,” for starters.  \\\n",
       "count                                       51997.000000                           \n",
       "mean                                            0.000135                           \n",
       "std                                             0.011602                           \n",
       "min                                             0.000000                           \n",
       "25%                                             0.000000                           \n",
       "50%                                             0.000000                           \n",
       "75%                                             0.000000                           \n",
       "max                                             1.000000                           \n",
       "\n",
       "       description_“He’ll ask for some apple juice to go with it,” to start things off.  \\\n",
       "count                                       51997.000000                                  \n",
       "mean                                            0.000154                                  \n",
       "std                                             0.012403                                  \n",
       "min                                             0.000000                                  \n",
       "25%                                             0.000000                                  \n",
       "50%                                             0.000000                                  \n",
       "75%                                             0.000000                                  \n",
       "max                                             1.000000                                  \n",
       "\n",
       "       description_“Holy licensing, Batman!” All of the iconic hallmarks and camp sensibilities of the 1960s “Batman” television program are transported to the printed page in this series.  \n",
       "count                                       51997.000000                                                                                                                                      \n",
       "mean                                            0.000058                                                                                                                                      \n",
       "std                                             0.007596                                                                                                                                      \n",
       "min                                             0.000000                                                                                                                                      \n",
       "25%                                             0.000000                                                                                                                                      \n",
       "50%                                             0.000000                                                                                                                                      \n",
       "75%                                             0.000000                                                                                                                                      \n",
       "max                                             1.000000                                                                                                                                      \n",
       "\n",
       "[8 rows x 17859 columns]"
      ]
     },
     "execution_count": 19,
     "metadata": {},
     "output_type": "execute_result"
    }
   ],
   "source": [
    "X.describe()"
   ]
  },
  {
   "cell_type": "code",
   "execution_count": 17,
   "metadata": {
    "collapsed": false
   },
   "outputs": [
    {
     "data": {
      "text/plain": [
       "count         51997\n",
       "unique            5\n",
       "top       0-4 weeks\n",
       "freq          29565\n",
       "Name: bin_weeks_on_list, dtype: object"
      ]
     },
     "execution_count": 17,
     "metadata": {},
     "output_type": "execute_result"
    }
   ],
   "source": [
    "#check the stats on week on list\n",
    "y.describe()"
   ]
  },
  {
   "cell_type": "code",
   "execution_count": 21,
   "metadata": {
    "collapsed": false
   },
   "outputs": [],
   "source": [
    "from sklearn.model_selection import train_test_split\n",
    "X_train, X_test, y_train, y_test = train_test_split(X,y,random_state=1)"
   ]
  },
  {
   "cell_type": "code",
   "execution_count": 22,
   "metadata": {
    "collapsed": false
   },
   "outputs": [],
   "source": [
    "#fit the model for BalancedRandomForestClassifier\n",
    "from imblearn.ensemble import BalancedRandomForestClassifier\n",
    "brfc = BalancedRandomForestClassifier(n_estimators=100, random_state=1)\n",
    "brfc = brfc.fit(X_train, y_train)\n"
   ]
  },
  {
   "cell_type": "code",
   "execution_count": 23,
   "metadata": {
    "collapsed": false
   },
   "outputs": [
    {
     "data": {
      "text/plain": [
       "0.9703041421691181"
      ]
     },
     "execution_count": 23,
     "metadata": {},
     "output_type": "execute_result"
    }
   ],
   "source": [
    "#predict\n",
    "y_pred = brfc.predict(X_test)\n",
    "balanced_accuracy_score(y_test, y_pred)"
   ]
  },
  {
   "cell_type": "code",
   "execution_count": 24,
   "metadata": {
    "collapsed": false
   },
   "outputs": [
    {
     "data": {
      "text/plain": [
       "array([[7313,    5,    3,   56,    0],\n",
       "       [   0,  722,   12,    7,    0],\n",
       "       [   0,   43, 1016,    0,   10],\n",
       "       [   0,   53,    3, 2041,    0],\n",
       "       [   0,    0,   65,    0, 1651]], dtype=int64)"
      ]
     },
     "execution_count": 24,
     "metadata": {},
     "output_type": "execute_result"
    }
   ],
   "source": [
    "confusion_matrix(y_test, y_pred)"
   ]
  },
  {
   "cell_type": "code",
   "execution_count": 25,
   "metadata": {
    "collapsed": false
   },
   "outputs": [
    {
     "name": "stdout",
     "output_type": "stream",
     "text": [
      "                    pre       rec       spe        f1       geo       iba       sup\n",
      "\n",
      "   0-4 weeks       1.00      0.99      1.00      1.00      1.00      0.99      7377\n",
      " 16-25 weeks       0.88      0.97      0.99      0.92      0.98      0.96       741\n",
      " 26-55 weeks       0.92      0.95      0.99      0.94      0.97      0.94      1069\n",
      "  5-15 weeks       0.97      0.97      0.99      0.97      0.98      0.97      2097\n",
      "56-610 weeks       0.99      0.96      1.00      0.98      0.98      0.96      1716\n",
      "\n",
      " avg / total       0.98      0.98      1.00      0.98      0.99      0.98     13000\n",
      "\n"
     ]
    }
   ],
   "source": [
    "print(classification_report_imbalanced(y_test,y_pred))"
   ]
  },
  {
   "cell_type": "code",
   "execution_count": null,
   "metadata": {
    "collapsed": false
   },
   "outputs": [],
   "source": []
  }
 ],
 "metadata": {
  "kernelspec": {
   "display_name": "mlenv",
   "language": "python",
   "name": "mlenv"
  },
  "language_info": {
   "codemirror_mode": {
    "name": "ipython",
    "version": 3
   },
   "file_extension": ".py",
   "mimetype": "text/x-python",
   "name": "python",
   "nbconvert_exporter": "python",
   "pygments_lexer": "ipython3",
   "version": "3.7.13"
  }
 },
 "nbformat": 4,
 "nbformat_minor": 0
}

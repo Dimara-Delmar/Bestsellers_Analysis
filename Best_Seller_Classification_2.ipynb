{
 "cells": [
  {
   "cell_type": "code",
   "execution_count": null,
   "metadata": {
    "collapsed": true,
    "pycharm": {
     "is_executing": true
    }
   },
   "outputs": [],
   "source": [
    "#fix weeks on list to what we are finding, how long weeks on list\n",
    "import warnings\n",
    "warnings.filterwarnings('ignore')"
   ]
  },
  {
   "cell_type": "code",
   "execution_count": 2,
   "outputs": [],
   "source": [
    "import numpy as np\n",
    "import pandas as pd\n",
    "from pathlib import Path\n",
    "from collections import Counter"
   ],
   "metadata": {
    "collapsed": false
   }
  },
  {
   "cell_type": "code",
   "execution_count": 3,
   "outputs": [],
   "source": [
    "from sklearn.metrics import balanced_accuracy_score\n",
    "from sklearn.metrics import confusion_matrix\n",
    "from imblearn.metrics import classification_report_imbalanced"
   ],
   "metadata": {
    "collapsed": false
   }
  },
  {
   "cell_type": "code",
   "execution_count": 4,
   "outputs": [],
   "source": [
    "file_path = Path('cleaned_best_seller_code.csv')\n",
    "df = pd.read_csv(file_path)"
   ],
   "metadata": {
    "collapsed": false
   }
  },
  {
   "cell_type": "code",
   "execution_count": 7,
   "outputs": [],
   "source": [
    "X = df.drop('weeks_on_list',axis= 1)\n",
    "X = pd.get_dummies(X)\n",
    "y= df['weeks_on_list']"
   ],
   "metadata": {
    "collapsed": false
   }
  },
  {
   "cell_type": "code",
   "execution_count": 8,
   "outputs": [
    {
     "data": {
      "text/plain": "               rank         price  published_date_2010-01-03  \\\ncount  51997.000000  51997.000000               51997.000000   \nmean       2.999731      4.533286                   0.001327   \nstd        1.415247      9.328902                   0.036404   \nmin        1.000000      0.000000                   0.000000   \n25%        2.000000      0.000000                   0.000000   \n50%        3.000000      0.000000                   0.000000   \n75%        4.000000      0.000000                   0.000000   \nmax        5.000000    150.000000                   1.000000   \n\n       published_date_2010-01-10  published_date_2010-01-17  \\\ncount               51997.000000               51997.000000   \nmean                    0.001346                   0.001346   \nstd                     0.036667                   0.036667   \nmin                     0.000000                   0.000000   \n25%                     0.000000                   0.000000   \n50%                     0.000000                   0.000000   \n75%                     0.000000                   0.000000   \nmax                     1.000000                   1.000000   \n\n       published_date_2010-01-24  published_date_2010-01-31  \\\ncount               51997.000000               51997.000000   \nmean                    0.001346                   0.001346   \nstd                     0.036667                   0.036667   \nmin                     0.000000                   0.000000   \n25%                     0.000000                   0.000000   \n50%                     0.000000                   0.000000   \n75%                     0.000000                   0.000000   \nmax                     1.000000                   1.000000   \n\n       published_date_2010-02-07  published_date_2010-02-14  \\\ncount               51997.000000               51997.000000   \nmean                    0.001346                   0.001346   \nstd                     0.036667                   0.036667   \nmin                     0.000000                   0.000000   \n25%                     0.000000                   0.000000   \n50%                     0.000000                   0.000000   \n75%                     0.000000                   0.000000   \nmax                     1.000000                   1.000000   \n\n       published_date_2010-02-21  ...  \\\ncount               51997.000000  ...   \nmean                    0.001346  ...   \nstd                     0.036667  ...   \nmin                     0.000000  ...   \n25%                     0.000000  ...   \n50%                     0.000000  ...   \n75%                     0.000000  ...   \nmax                     1.000000  ...   \n\n       description_ Is this the end of humanity? It sure looks that way when what is left of mankind must go into hiding to escape the giant humanoids known as the Titans.  \\\ncount                                       51997.000000                                                                                                                      \nmean                                            0.000019                                                                                                                      \nstd                                             0.004385                                                                                                                      \nmin                                             0.000000                                                                                                                      \n25%                                             0.000000                                                                                                                      \n50%                                             0.000000                                                                                                                      \n75%                                             0.000000                                                                                                                      \nmax                                             1.000000                                                                                                                      \n\n       description_ Searching for her sister’s killer, a former F.B.I. researcher finds a link between scores of apparently unconnected unsolved cases. Now she must convince her boss and her former boyfriend that this killer is real.   \\\ncount                                       51997.000000                                                                                                                                                                                     \nmean                                            0.000019                                                                                                                                                                                     \nstd                                             0.004385                                                                                                                                                                                     \nmin                                             0.000000                                                                                                                                                                                     \n25%                                             0.000000                                                                                                                                                                                     \n50%                                             0.000000                                                                                                                                                                                     \n75%                                             0.000000                                                                                                                                                                                     \nmax                                             1.000000                                                                                                                                                                                     \n\n       description_ The final book of the Hollows series.   \\\ncount                                       51997.000000     \nmean                                            0.000019     \nstd                                             0.004385     \nmin                                             0.000000     \n25%                                             0.000000     \n50%                                             0.000000     \n75%                                             0.000000     \nmax                                             1.000000     \n\n       description_’Night, Baby Llama.  \\\ncount                     51997.000000   \nmean                          0.000019   \nstd                           0.004385   \nmin                           0.000000   \n25%                           0.000000   \n50%                           0.000000   \n75%                           0.000000   \nmax                           1.000000   \n\n       description_“Barefoot Contessa” recipes with instructions on preparing, assembling or cooking meals ahead of time.  \\\ncount                                       51997.000000                                                                    \nmean                                            0.000327                                                                    \nstd                                             0.018079                                                                    \nmin                                             0.000000                                                                    \n25%                                             0.000000                                                                    \n50%                                             0.000000                                                                    \n75%                                             0.000000                                                                    \nmax                                             1.000000                                                                    \n\n       description_“Dear Sugar” advice columns.  \\\ncount                              51997.000000   \nmean                                   0.000019   \nstd                                    0.004385   \nmin                                    0.000000   \n25%                                    0.000000   \n50%                                    0.000000   \n75%                                    0.000000   \nmax                                    1.000000   \n\n       description_“Hawkguy” rallies his neighbors and his brother to help protect his building from hired assassins and tracksuit–wearing thugs.  \\\ncount                                       51997.000000                                                                                            \nmean                                            0.000019                                                                                            \nstd                                             0.004385                                                                                            \nmin                                             0.000000                                                                                            \n25%                                             0.000000                                                                                            \n50%                                             0.000000                                                                                            \n75%                                             0.000000                                                                                            \nmax                                             1.000000                                                                                            \n\n       description_“He’ll ask for some apple juice to go with it,” for starters.  \\\ncount                                       51997.000000                           \nmean                                            0.000135                           \nstd                                             0.011602                           \nmin                                             0.000000                           \n25%                                             0.000000                           \n50%                                             0.000000                           \n75%                                             0.000000                           \nmax                                             1.000000                           \n\n       description_“He’ll ask for some apple juice to go with it,” to start things off.  \\\ncount                                       51997.000000                                  \nmean                                            0.000154                                  \nstd                                             0.012403                                  \nmin                                             0.000000                                  \n25%                                             0.000000                                  \n50%                                             0.000000                                  \n75%                                             0.000000                                  \nmax                                             1.000000                                  \n\n       description_“Holy licensing, Batman!” All of the iconic hallmarks and camp sensibilities of the 1960s “Batman” television program are transported to the printed page in this series.  \ncount                                       51997.000000                                                                                                                                      \nmean                                            0.000058                                                                                                                                      \nstd                                             0.007596                                                                                                                                      \nmin                                             0.000000                                                                                                                                      \n25%                                             0.000000                                                                                                                                      \n50%                                             0.000000                                                                                                                                      \n75%                                             0.000000                                                                                                                                      \nmax                                             1.000000                                                                                                                                      \n\n[8 rows x 17858 columns]",
      "text/html": "<div>\n<style scoped>\n    .dataframe tbody tr th:only-of-type {\n        vertical-align: middle;\n    }\n\n    .dataframe tbody tr th {\n        vertical-align: top;\n    }\n\n    .dataframe thead th {\n        text-align: right;\n    }\n</style>\n<table border=\"1\" class=\"dataframe\">\n  <thead>\n    <tr style=\"text-align: right;\">\n      <th></th>\n      <th>rank</th>\n      <th>price</th>\n      <th>published_date_2010-01-03</th>\n      <th>published_date_2010-01-10</th>\n      <th>published_date_2010-01-17</th>\n      <th>published_date_2010-01-24</th>\n      <th>published_date_2010-01-31</th>\n      <th>published_date_2010-02-07</th>\n      <th>published_date_2010-02-14</th>\n      <th>published_date_2010-02-21</th>\n      <th>...</th>\n      <th>description_ Is this the end of humanity? It sure looks that way when what is left of mankind must go into hiding to escape the giant humanoids known as the Titans.</th>\n      <th>description_ Searching for her sister’s killer, a former F.B.I. researcher finds a link between scores of apparently unconnected unsolved cases. Now she must convince her boss and her former boyfriend that this killer is real.</th>\n      <th>description_ The final book of the Hollows series.</th>\n      <th>description_’Night, Baby Llama.</th>\n      <th>description_“Barefoot Contessa” recipes with instructions on preparing, assembling or cooking meals ahead of time.</th>\n      <th>description_“Dear Sugar” advice columns.</th>\n      <th>description_“Hawkguy” rallies his neighbors and his brother to help protect his building from hired assassins and tracksuit–wearing thugs.</th>\n      <th>description_“He’ll ask for some apple juice to go with it,” for starters.</th>\n      <th>description_“He’ll ask for some apple juice to go with it,” to start things off.</th>\n      <th>description_“Holy licensing, Batman!” All of the iconic hallmarks and camp sensibilities of the 1960s “Batman” television program are transported to the printed page in this series.</th>\n    </tr>\n  </thead>\n  <tbody>\n    <tr>\n      <th>count</th>\n      <td>51997.000000</td>\n      <td>51997.000000</td>\n      <td>51997.000000</td>\n      <td>51997.000000</td>\n      <td>51997.000000</td>\n      <td>51997.000000</td>\n      <td>51997.000000</td>\n      <td>51997.000000</td>\n      <td>51997.000000</td>\n      <td>51997.000000</td>\n      <td>...</td>\n      <td>51997.000000</td>\n      <td>51997.000000</td>\n      <td>51997.000000</td>\n      <td>51997.000000</td>\n      <td>51997.000000</td>\n      <td>51997.000000</td>\n      <td>51997.000000</td>\n      <td>51997.000000</td>\n      <td>51997.000000</td>\n      <td>51997.000000</td>\n    </tr>\n    <tr>\n      <th>mean</th>\n      <td>2.999731</td>\n      <td>4.533286</td>\n      <td>0.001327</td>\n      <td>0.001346</td>\n      <td>0.001346</td>\n      <td>0.001346</td>\n      <td>0.001346</td>\n      <td>0.001346</td>\n      <td>0.001346</td>\n      <td>0.001346</td>\n      <td>...</td>\n      <td>0.000019</td>\n      <td>0.000019</td>\n      <td>0.000019</td>\n      <td>0.000019</td>\n      <td>0.000327</td>\n      <td>0.000019</td>\n      <td>0.000019</td>\n      <td>0.000135</td>\n      <td>0.000154</td>\n      <td>0.000058</td>\n    </tr>\n    <tr>\n      <th>std</th>\n      <td>1.415247</td>\n      <td>9.328902</td>\n      <td>0.036404</td>\n      <td>0.036667</td>\n      <td>0.036667</td>\n      <td>0.036667</td>\n      <td>0.036667</td>\n      <td>0.036667</td>\n      <td>0.036667</td>\n      <td>0.036667</td>\n      <td>...</td>\n      <td>0.004385</td>\n      <td>0.004385</td>\n      <td>0.004385</td>\n      <td>0.004385</td>\n      <td>0.018079</td>\n      <td>0.004385</td>\n      <td>0.004385</td>\n      <td>0.011602</td>\n      <td>0.012403</td>\n      <td>0.007596</td>\n    </tr>\n    <tr>\n      <th>min</th>\n      <td>1.000000</td>\n      <td>0.000000</td>\n      <td>0.000000</td>\n      <td>0.000000</td>\n      <td>0.000000</td>\n      <td>0.000000</td>\n      <td>0.000000</td>\n      <td>0.000000</td>\n      <td>0.000000</td>\n      <td>0.000000</td>\n      <td>...</td>\n      <td>0.000000</td>\n      <td>0.000000</td>\n      <td>0.000000</td>\n      <td>0.000000</td>\n      <td>0.000000</td>\n      <td>0.000000</td>\n      <td>0.000000</td>\n      <td>0.000000</td>\n      <td>0.000000</td>\n      <td>0.000000</td>\n    </tr>\n    <tr>\n      <th>25%</th>\n      <td>2.000000</td>\n      <td>0.000000</td>\n      <td>0.000000</td>\n      <td>0.000000</td>\n      <td>0.000000</td>\n      <td>0.000000</td>\n      <td>0.000000</td>\n      <td>0.000000</td>\n      <td>0.000000</td>\n      <td>0.000000</td>\n      <td>...</td>\n      <td>0.000000</td>\n      <td>0.000000</td>\n      <td>0.000000</td>\n      <td>0.000000</td>\n      <td>0.000000</td>\n      <td>0.000000</td>\n      <td>0.000000</td>\n      <td>0.000000</td>\n      <td>0.000000</td>\n      <td>0.000000</td>\n    </tr>\n    <tr>\n      <th>50%</th>\n      <td>3.000000</td>\n      <td>0.000000</td>\n      <td>0.000000</td>\n      <td>0.000000</td>\n      <td>0.000000</td>\n      <td>0.000000</td>\n      <td>0.000000</td>\n      <td>0.000000</td>\n      <td>0.000000</td>\n      <td>0.000000</td>\n      <td>...</td>\n      <td>0.000000</td>\n      <td>0.000000</td>\n      <td>0.000000</td>\n      <td>0.000000</td>\n      <td>0.000000</td>\n      <td>0.000000</td>\n      <td>0.000000</td>\n      <td>0.000000</td>\n      <td>0.000000</td>\n      <td>0.000000</td>\n    </tr>\n    <tr>\n      <th>75%</th>\n      <td>4.000000</td>\n      <td>0.000000</td>\n      <td>0.000000</td>\n      <td>0.000000</td>\n      <td>0.000000</td>\n      <td>0.000000</td>\n      <td>0.000000</td>\n      <td>0.000000</td>\n      <td>0.000000</td>\n      <td>0.000000</td>\n      <td>...</td>\n      <td>0.000000</td>\n      <td>0.000000</td>\n      <td>0.000000</td>\n      <td>0.000000</td>\n      <td>0.000000</td>\n      <td>0.000000</td>\n      <td>0.000000</td>\n      <td>0.000000</td>\n      <td>0.000000</td>\n      <td>0.000000</td>\n    </tr>\n    <tr>\n      <th>max</th>\n      <td>5.000000</td>\n      <td>150.000000</td>\n      <td>1.000000</td>\n      <td>1.000000</td>\n      <td>1.000000</td>\n      <td>1.000000</td>\n      <td>1.000000</td>\n      <td>1.000000</td>\n      <td>1.000000</td>\n      <td>1.000000</td>\n      <td>...</td>\n      <td>1.000000</td>\n      <td>1.000000</td>\n      <td>1.000000</td>\n      <td>1.000000</td>\n      <td>1.000000</td>\n      <td>1.000000</td>\n      <td>1.000000</td>\n      <td>1.000000</td>\n      <td>1.000000</td>\n      <td>1.000000</td>\n    </tr>\n  </tbody>\n</table>\n<p>8 rows × 17858 columns</p>\n</div>"
     },
     "execution_count": 8,
     "metadata": {},
     "output_type": "execute_result"
    }
   ],
   "source": [
    "X.describe()"
   ],
   "metadata": {
    "collapsed": false
   }
  },
  {
   "cell_type": "code",
   "execution_count": 9,
   "outputs": [
    {
     "data": {
      "text/plain": "count    51997.000000\nmean        27.229859\nstd         67.540999\nmin          0.000000\n25%          0.000000\n50%          3.000000\n75%         19.000000\nmax        607.000000\nName: weeks_on_list, dtype: float64"
     },
     "execution_count": 9,
     "metadata": {},
     "output_type": "execute_result"
    }
   ],
   "source": [
    "#check the amount of book types\n",
    "y.describe()"
   ],
   "metadata": {
    "collapsed": false
   }
  },
  {
   "cell_type": "code",
   "execution_count": null,
   "outputs": [],
   "source": [],
   "metadata": {
    "collapsed": false
   }
  },
  {
   "cell_type": "code",
   "execution_count": 11,
   "outputs": [],
   "source": [
    "from sklearn.model_selection import train_test_split\n",
    "X_train, X_test, y_train, y_test = train_test_split(X,y,random_state=1)"
   ],
   "metadata": {
    "collapsed": false
   }
  },
  {
   "cell_type": "code",
   "execution_count": 12,
   "outputs": [],
   "source": [
    "from imblearn.ensemble import BalancedRandomForestClassifier\n",
    "brfc = BalancedRandomForestClassifier(n_estimators=100, random_state=1)\n",
    "brfc = brfc.fit(X_train, y_train)\n"
   ],
   "metadata": {
    "collapsed": false
   }
  },
  {
   "cell_type": "code",
   "execution_count": 13,
   "outputs": [
    {
     "data": {
      "text/plain": "0.7665949612628442"
     },
     "execution_count": 13,
     "metadata": {},
     "output_type": "execute_result"
    }
   ],
   "source": [
    "y_pred = brfc.predict(X_test)\n",
    "balanced_accuracy_score(y_test, y_pred)"
   ],
   "metadata": {
    "collapsed": false
   }
  },
  {
   "cell_type": "code",
   "execution_count": 14,
   "outputs": [
    {
     "data": {
      "text/plain": "array([[156,   0,   0, ...,   0,   0,   0],\n       [  0,  63,   0, ...,   0,   0,   0],\n       [  0,   0,  45, ...,   0,   0,   0],\n       ...,\n       [  3,   0,   0, ..., 110,   0,   0],\n       [  0,   0,   0, ...,   0, 156,   2],\n       [  0,   0,   0, ...,   0,   5, 248]], dtype=int64)"
     },
     "execution_count": 14,
     "metadata": {},
     "output_type": "execute_result"
    }
   ],
   "source": [
    "confusion_matrix(y_test, y_pred)"
   ],
   "metadata": {
    "collapsed": false
   }
  },
  {
   "cell_type": "code",
   "execution_count": 15,
   "outputs": [
    {
     "name": "stdout",
     "output_type": "stream",
     "text": [
      "                                            pre       rec       spe        f1       geo       iba       sup\n",
      "\n",
      "                             animals       0.84      0.95      1.00      0.89      0.97      0.94       164\n",
      "                       audio_fiction       0.68      1.00      1.00      0.81      1.00      1.00        63\n",
      "                    audio_nonfiction       0.58      1.00      1.00      0.73      1.00      1.00        45\n",
      "                         celebrities       0.42      0.53      0.99      0.47      0.72      0.50       142\n",
      "                       chapter_books       0.55      0.88      0.99      0.68      0.93      0.86       197\n",
      "              childrens_middle_grade       0.84      0.88      1.00      0.86      0.94      0.87       167\n",
      "    childrens_middle_grade_hardcover       0.83      0.87      1.00      0.85      0.93      0.86       282\n",
      "   combined_print_and_e_book_fiction       0.21      0.26      0.96      0.23      0.50      0.23       546\n",
      "combined_print_and_e_book_nonfiction       0.51      0.25      0.99      0.34      0.50      0.23       566\n",
      "              combined_print_fiction       0.93      0.83      1.00      0.88      0.91      0.82       137\n",
      "           combined_print_nonfiction       0.72      0.80      1.00      0.76      0.89      0.78       144\n",
      "                crime_and_punishment       0.76      0.67      1.00      0.71      0.82      0.65       141\n",
      "                             culture       0.69      0.81      1.00      0.74      0.90      0.79       137\n",
      "                      e_book_fiction       0.17      0.61      0.91      0.27      0.75      0.54       374\n",
      "                   e_book_nonfiction       0.40      0.41      0.98      0.41      0.63      0.38       342\n",
      "                           education       0.76      0.90      1.00      0.82      0.95      0.88       135\n",
      "                           espionage       0.79      0.99      1.00      0.88      0.99      0.99       127\n",
      "expeditions_disasters_and_adventures       0.61      0.90      0.99      0.72      0.94      0.88       117\n",
      "                              family       0.83      0.83      1.00      0.83      0.91      0.82       167\n",
      "         fashion_manners_and_customs       0.78      0.97      1.00      0.86      0.98      0.96       162\n",
      "                    food_and_fitness       0.94      0.76      1.00      0.84      0.87      0.74       223\n",
      "                games_and_activities       1.00      1.00      1.00      1.00      1.00      1.00       144\n",
      "             graphic_books_and_manga       0.95      1.00      1.00      0.97      1.00      1.00        18\n",
      "                    hardcover_advice       0.28      0.96      0.96      0.43      0.96      0.92       216\n",
      "            hardcover_business_books       0.76      1.00      1.00      0.86      1.00      1.00       140\n",
      "                   hardcover_fiction       0.48      0.22      0.99      0.30      0.46      0.20       670\n",
      "             hardcover_graphic_books       0.88      0.39      1.00      0.54      0.62      0.36       464\n",
      "                hardcover_nonfiction       0.58      0.19      0.99      0.28      0.43      0.17       615\n",
      "           hardcover_political_books       0.94      0.66      1.00      0.77      0.81      0.63       335\n",
      "                              health       0.59      0.88      0.99      0.70      0.93      0.86       161\n",
      "                               humor       0.58      0.58      0.99      0.58      0.76      0.55       169\n",
      "                indigenous_americans       0.88      1.00      1.00      0.93      1.00      1.00        57\n",
      "                               manga       0.88      0.75      1.00      0.81      0.86      0.73       450\n",
      "                 mass_market_monthly       0.27      1.00      1.00      0.42      1.00      1.00        12\n",
      "               mass_market_paperback       0.63      0.59      0.99      0.61      0.76      0.56       471\n",
      "                    paperback_advice       0.85      0.89      1.00      0.87      0.94      0.87       244\n",
      "                     paperback_books       0.63      0.90      0.99      0.74      0.95      0.89       203\n",
      "            paperback_business_books       0.85      0.97      1.00      0.91      0.98      0.96       125\n",
      "             paperback_graphic_books       0.96      0.76      1.00      0.85      0.87      0.74       430\n",
      "                paperback_nonfiction       0.90      0.63      1.00      0.75      0.79      0.61       685\n",
      "                       picture_books       1.00      0.72      1.00      0.84      0.85      0.70       653\n",
      "               race_and_civil_rights       0.66      0.82      1.00      0.73      0.90      0.80       134\n",
      "                       relationships       0.75      0.72      1.00      0.73      0.85      0.69       159\n",
      "     religion_spirituality_and_faith       0.91      0.85      1.00      0.88      0.92      0.84       143\n",
      "                        series_books       0.97      0.84      1.00      0.90      0.92      0.83       639\n",
      "             trade_fiction_paperback       0.90      0.64      1.00      0.74      0.80      0.61       670\n",
      "                              travel       0.77      0.77      1.00      0.77      0.88      0.76       142\n",
      "                         young_adult       0.91      0.92      1.00      0.91      0.96      0.91       170\n",
      "               young_adult_hardcover       0.88      0.82      1.00      0.85      0.90      0.80       303\n",
      "\n",
      "                         avg / total       0.72      0.65      0.99      0.66      0.79      0.63     13000\n",
      "\n"
     ]
    }
   ],
   "source": [
    "print(classification_report_imbalanced(y_test,y_pred))"
   ],
   "metadata": {
    "collapsed": false
   }
  },
  {
   "cell_type": "code",
   "execution_count": null,
   "outputs": [],
   "source": [],
   "metadata": {
    "collapsed": false
   }
  }
 ],
 "metadata": {
  "kernelspec": {
   "name": "mlenv",
   "language": "python",
   "display_name": "mlenv"
  },
  "language_info": {
   "codemirror_mode": {
    "name": "ipython",
    "version": 2
   },
   "file_extension": ".py",
   "mimetype": "text/x-python",
   "name": "python",
   "nbconvert_exporter": "python",
   "pygments_lexer": "ipython2",
   "version": "2.7.6"
  }
 },
 "nbformat": 4,
 "nbformat_minor": 0
}

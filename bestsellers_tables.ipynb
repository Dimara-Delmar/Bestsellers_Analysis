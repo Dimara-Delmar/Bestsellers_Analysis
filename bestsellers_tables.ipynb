{
 "cells": [
  {
   "cell_type": "code",
   "execution_count": 1,
   "metadata": {},
   "outputs": [],
   "source": [
    "# Import dependencies.\n",
    "import pandas as pd"
   ]
  },
  {
   "cell_type": "code",
   "execution_count": 4,
   "metadata": {},
   "outputs": [
    {
     "data": {
      "text/html": [
       "<div>\n",
       "<style scoped>\n",
       "    .dataframe tbody tr th:only-of-type {\n",
       "        vertical-align: middle;\n",
       "    }\n",
       "\n",
       "    .dataframe tbody tr th {\n",
       "        vertical-align: top;\n",
       "    }\n",
       "\n",
       "    .dataframe thead th {\n",
       "        text-align: right;\n",
       "    }\n",
       "</style>\n",
       "<table border=\"1\" class=\"dataframe\">\n",
       "  <thead>\n",
       "    <tr style=\"text-align: right;\">\n",
       "      <th></th>\n",
       "      <th>Unnamed: 0</th>\n",
       "      <th>published_date</th>\n",
       "      <th>book_type</th>\n",
       "      <th>rank</th>\n",
       "      <th>title</th>\n",
       "      <th>author</th>\n",
       "      <th>description</th>\n",
       "      <th>price</th>\n",
       "      <th>weeks_on_list</th>\n",
       "    </tr>\n",
       "  </thead>\n",
       "  <tbody>\n",
       "    <tr>\n",
       "      <th>0</th>\n",
       "      <td>0</td>\n",
       "      <td>2010-01-03</td>\n",
       "      <td>chapter_books</td>\n",
       "      <td>1</td>\n",
       "      <td>WITCH AND WIZARD</td>\n",
       "      <td>James Patterson and Gabrielle Charbonnet</td>\n",
       "      <td>One of each, brother and sister, flex their ne...</td>\n",
       "      <td>17.99</td>\n",
       "      <td>1</td>\n",
       "    </tr>\n",
       "    <tr>\n",
       "      <th>1</th>\n",
       "      <td>1</td>\n",
       "      <td>2010-01-03</td>\n",
       "      <td>chapter_books</td>\n",
       "      <td>2</td>\n",
       "      <td>THE HUNGER GAMES</td>\n",
       "      <td>Suzanne Collins</td>\n",
       "      <td>In a dystopian future, a girl fights for survi...</td>\n",
       "      <td>17.99</td>\n",
       "      <td>67</td>\n",
       "    </tr>\n",
       "    <tr>\n",
       "      <th>2</th>\n",
       "      <td>2</td>\n",
       "      <td>2010-01-03</td>\n",
       "      <td>chapter_books</td>\n",
       "      <td>3</td>\n",
       "      <td>CATCHING FIRE</td>\n",
       "      <td>Suzanne Collins</td>\n",
       "      <td>The protagonist of \"The Hunger Games\" returns.</td>\n",
       "      <td>17.99</td>\n",
       "      <td>16</td>\n",
       "    </tr>\n",
       "    <tr>\n",
       "      <th>3</th>\n",
       "      <td>3</td>\n",
       "      <td>2010-01-03</td>\n",
       "      <td>chapter_books</td>\n",
       "      <td>4</td>\n",
       "      <td>THE MAGICIAN’S ELEPHANT</td>\n",
       "      <td>Kate DiCamillo</td>\n",
       "      <td>An orphan in search of his sister follows a fo...</td>\n",
       "      <td>16.99</td>\n",
       "      <td>15</td>\n",
       "    </tr>\n",
       "    <tr>\n",
       "      <th>4</th>\n",
       "      <td>4</td>\n",
       "      <td>2010-01-03</td>\n",
       "      <td>chapter_books</td>\n",
       "      <td>5</td>\n",
       "      <td>FALLEN</td>\n",
       "      <td>Lauren Kate</td>\n",
       "      <td>Thwarted love among misfits at a Savannah, Ga....</td>\n",
       "      <td>17.99</td>\n",
       "      <td>2</td>\n",
       "    </tr>\n",
       "  </tbody>\n",
       "</table>\n",
       "</div>"
      ],
      "text/plain": [
       "   Unnamed: 0 published_date      book_type  rank                    title  \\\n",
       "0           0     2010-01-03  chapter_books     1         WITCH AND WIZARD   \n",
       "1           1     2010-01-03  chapter_books     2         THE HUNGER GAMES   \n",
       "2           2     2010-01-03  chapter_books     3            CATCHING FIRE   \n",
       "3           3     2010-01-03  chapter_books     4  THE MAGICIAN’S ELEPHANT   \n",
       "4           4     2010-01-03  chapter_books     5                   FALLEN   \n",
       "\n",
       "                                     author  \\\n",
       "0  James Patterson and Gabrielle Charbonnet   \n",
       "1                           Suzanne Collins   \n",
       "2                           Suzanne Collins   \n",
       "3                            Kate DiCamillo   \n",
       "4                               Lauren Kate   \n",
       "\n",
       "                                         description  price  weeks_on_list  \n",
       "0  One of each, brother and sister, flex their ne...  17.99              1  \n",
       "1  In a dystopian future, a girl fights for survi...  17.99             67  \n",
       "2     The protagonist of \"The Hunger Games\" returns.  17.99             16  \n",
       "3  An orphan in search of his sister follows a fo...  16.99             15  \n",
       "4  Thwarted love among misfits at a Savannah, Ga....  17.99              2  "
      ]
     },
     "execution_count": 4,
     "metadata": {},
     "output_type": "execute_result"
    }
   ],
   "source": [
    "# Read data into a DataFrame.\n",
    "clean_df = pd.read_csv('Resources/cleaned_best_seller_code.csv')\n",
    "clean_df.head()"
   ]
  },
  {
   "cell_type": "code",
   "execution_count": 5,
   "metadata": {},
   "outputs": [
    {
     "name": "stdout",
     "output_type": "stream",
     "text": [
      "<class 'pandas.core.frame.DataFrame'>\n",
      "RangeIndex: 51997 entries, 0 to 51996\n",
      "Data columns (total 9 columns):\n",
      " #   Column          Non-Null Count  Dtype  \n",
      "---  ------          --------------  -----  \n",
      " 0   Unnamed: 0      51997 non-null  int64  \n",
      " 1   published_date  51997 non-null  object \n",
      " 2   book_type       51997 non-null  object \n",
      " 3   rank            51997 non-null  int64  \n",
      " 4   title           51997 non-null  object \n",
      " 5   author          51997 non-null  object \n",
      " 6   description     51997 non-null  object \n",
      " 7   price           51997 non-null  float64\n",
      " 8   weeks_on_list   51997 non-null  int64  \n",
      "dtypes: float64(1), int64(3), object(5)\n",
      "memory usage: 3.6+ MB\n"
     ]
    }
   ],
   "source": [
    "# Inspect the data.\n",
    "clean_df.info()"
   ]
  },
  {
   "cell_type": "code",
   "execution_count": 7,
   "metadata": {},
   "outputs": [
    {
     "data": {
      "text/plain": [
       "Index(['Unnamed: 0', 'published_date', 'book_type', 'rank', 'title', 'author',\n",
       "       'description', 'price', 'weeks_on_list'],\n",
       "      dtype='object')"
      ]
     },
     "execution_count": 7,
     "metadata": {},
     "output_type": "execute_result"
    }
   ],
   "source": [
    "# Column names.\n",
    "clean_df.columns"
   ]
  },
  {
   "cell_type": "code",
   "execution_count": 8,
   "metadata": {},
   "outputs": [
    {
     "data": {
      "text/html": [
       "<div>\n",
       "<style scoped>\n",
       "    .dataframe tbody tr th:only-of-type {\n",
       "        vertical-align: middle;\n",
       "    }\n",
       "\n",
       "    .dataframe tbody tr th {\n",
       "        vertical-align: top;\n",
       "    }\n",
       "\n",
       "    .dataframe thead th {\n",
       "        text-align: right;\n",
       "    }\n",
       "</style>\n",
       "<table border=\"1\" class=\"dataframe\">\n",
       "  <thead>\n",
       "    <tr style=\"text-align: right;\">\n",
       "      <th></th>\n",
       "      <th>title</th>\n",
       "      <th>author</th>\n",
       "    </tr>\n",
       "  </thead>\n",
       "  <tbody>\n",
       "    <tr>\n",
       "      <th>0</th>\n",
       "      <td>WITCH AND WIZARD</td>\n",
       "      <td>James Patterson and Gabrielle Charbonnet</td>\n",
       "    </tr>\n",
       "    <tr>\n",
       "      <th>1</th>\n",
       "      <td>THE HUNGER GAMES</td>\n",
       "      <td>Suzanne Collins</td>\n",
       "    </tr>\n",
       "    <tr>\n",
       "      <th>2</th>\n",
       "      <td>CATCHING FIRE</td>\n",
       "      <td>Suzanne Collins</td>\n",
       "    </tr>\n",
       "    <tr>\n",
       "      <th>3</th>\n",
       "      <td>THE MAGICIAN’S ELEPHANT</td>\n",
       "      <td>Kate DiCamillo</td>\n",
       "    </tr>\n",
       "    <tr>\n",
       "      <th>4</th>\n",
       "      <td>FALLEN</td>\n",
       "      <td>Lauren Kate</td>\n",
       "    </tr>\n",
       "  </tbody>\n",
       "</table>\n",
       "</div>"
      ],
      "text/plain": [
       "                     title                                    author\n",
       "0         WITCH AND WIZARD  James Patterson and Gabrielle Charbonnet\n",
       "1         THE HUNGER GAMES                           Suzanne Collins\n",
       "2            CATCHING FIRE                           Suzanne Collins\n",
       "3  THE MAGICIAN’S ELEPHANT                            Kate DiCamillo\n",
       "4                   FALLEN                               Lauren Kate"
      ]
     },
     "execution_count": 8,
     "metadata": {},
     "output_type": "execute_result"
    }
   ],
   "source": [
    "# Create the authors_df.\n",
    "authors_df = clean_df.drop(['Unnamed: 0', 'published_date', 'book_type', 'rank',\n",
    "       'description', 'price', 'weeks_on_list'], axis=1)\n",
    "authors_df.head()"
   ]
  },
  {
   "cell_type": "code",
   "execution_count": 10,
   "metadata": {},
   "outputs": [],
   "source": [
    "# Export the authors_df as a CSV file.\n",
    "authors_df.to_csv(\"Resources/authors.csv\", encoding='utf8', index=False)"
   ]
  },
  {
   "cell_type": "code",
   "execution_count": 11,
   "metadata": {},
   "outputs": [
    {
     "data": {
      "text/html": [
       "<div>\n",
       "<style scoped>\n",
       "    .dataframe tbody tr th:only-of-type {\n",
       "        vertical-align: middle;\n",
       "    }\n",
       "\n",
       "    .dataframe tbody tr th {\n",
       "        vertical-align: top;\n",
       "    }\n",
       "\n",
       "    .dataframe thead th {\n",
       "        text-align: right;\n",
       "    }\n",
       "</style>\n",
       "<table border=\"1\" class=\"dataframe\">\n",
       "  <thead>\n",
       "    <tr style=\"text-align: right;\">\n",
       "      <th></th>\n",
       "      <th>book_type</th>\n",
       "      <th>title</th>\n",
       "    </tr>\n",
       "  </thead>\n",
       "  <tbody>\n",
       "    <tr>\n",
       "      <th>0</th>\n",
       "      <td>chapter_books</td>\n",
       "      <td>WITCH AND WIZARD</td>\n",
       "    </tr>\n",
       "    <tr>\n",
       "      <th>1</th>\n",
       "      <td>chapter_books</td>\n",
       "      <td>THE HUNGER GAMES</td>\n",
       "    </tr>\n",
       "    <tr>\n",
       "      <th>2</th>\n",
       "      <td>chapter_books</td>\n",
       "      <td>CATCHING FIRE</td>\n",
       "    </tr>\n",
       "    <tr>\n",
       "      <th>3</th>\n",
       "      <td>chapter_books</td>\n",
       "      <td>THE MAGICIAN’S ELEPHANT</td>\n",
       "    </tr>\n",
       "    <tr>\n",
       "      <th>4</th>\n",
       "      <td>chapter_books</td>\n",
       "      <td>FALLEN</td>\n",
       "    </tr>\n",
       "  </tbody>\n",
       "</table>\n",
       "</div>"
      ],
      "text/plain": [
       "       book_type                    title\n",
       "0  chapter_books         WITCH AND WIZARD\n",
       "1  chapter_books         THE HUNGER GAMES\n",
       "2  chapter_books            CATCHING FIRE\n",
       "3  chapter_books  THE MAGICIAN’S ELEPHANT\n",
       "4  chapter_books                   FALLEN"
      ]
     },
     "execution_count": 11,
     "metadata": {},
     "output_type": "execute_result"
    }
   ],
   "source": [
    "# Create the booktype_df.\n",
    "booktype_df = clean_df.drop(['Unnamed: 0', 'published_date', 'author', 'rank',\n",
    "       'description', 'price', 'weeks_on_list'], axis=1)\n",
    "booktype_df.head()"
   ]
  },
  {
   "cell_type": "code",
   "execution_count": 12,
   "metadata": {},
   "outputs": [],
   "source": [
    "# Export the booktype_df as a CSV file.\n",
    "booktype_df.to_csv(\"Resources/booktype.csv\", encoding='utf8', index=False)"
   ]
  },
  {
   "cell_type": "code",
   "execution_count": 15,
   "metadata": {},
   "outputs": [
    {
     "data": {
      "text/html": [
       "<div>\n",
       "<style scoped>\n",
       "    .dataframe tbody tr th:only-of-type {\n",
       "        vertical-align: middle;\n",
       "    }\n",
       "\n",
       "    .dataframe tbody tr th {\n",
       "        vertical-align: top;\n",
       "    }\n",
       "\n",
       "    .dataframe thead th {\n",
       "        text-align: right;\n",
       "    }\n",
       "</style>\n",
       "<table border=\"1\" class=\"dataframe\">\n",
       "  <thead>\n",
       "    <tr style=\"text-align: right;\">\n",
       "      <th></th>\n",
       "      <th>rank</th>\n",
       "      <th>title</th>\n",
       "      <th>author</th>\n",
       "      <th>weeks_on_list</th>\n",
       "    </tr>\n",
       "  </thead>\n",
       "  <tbody>\n",
       "    <tr>\n",
       "      <th>0</th>\n",
       "      <td>1</td>\n",
       "      <td>WITCH AND WIZARD</td>\n",
       "      <td>James Patterson and Gabrielle Charbonnet</td>\n",
       "      <td>1</td>\n",
       "    </tr>\n",
       "    <tr>\n",
       "      <th>1</th>\n",
       "      <td>2</td>\n",
       "      <td>THE HUNGER GAMES</td>\n",
       "      <td>Suzanne Collins</td>\n",
       "      <td>67</td>\n",
       "    </tr>\n",
       "    <tr>\n",
       "      <th>2</th>\n",
       "      <td>3</td>\n",
       "      <td>CATCHING FIRE</td>\n",
       "      <td>Suzanne Collins</td>\n",
       "      <td>16</td>\n",
       "    </tr>\n",
       "    <tr>\n",
       "      <th>3</th>\n",
       "      <td>4</td>\n",
       "      <td>THE MAGICIAN’S ELEPHANT</td>\n",
       "      <td>Kate DiCamillo</td>\n",
       "      <td>15</td>\n",
       "    </tr>\n",
       "    <tr>\n",
       "      <th>4</th>\n",
       "      <td>5</td>\n",
       "      <td>FALLEN</td>\n",
       "      <td>Lauren Kate</td>\n",
       "      <td>2</td>\n",
       "    </tr>\n",
       "  </tbody>\n",
       "</table>\n",
       "</div>"
      ],
      "text/plain": [
       "   rank                    title                                    author  \\\n",
       "0     1         WITCH AND WIZARD  James Patterson and Gabrielle Charbonnet   \n",
       "1     2         THE HUNGER GAMES                           Suzanne Collins   \n",
       "2     3            CATCHING FIRE                           Suzanne Collins   \n",
       "3     4  THE MAGICIAN’S ELEPHANT                            Kate DiCamillo   \n",
       "4     5                   FALLEN                               Lauren Kate   \n",
       "\n",
       "   weeks_on_list  \n",
       "0              1  \n",
       "1             67  \n",
       "2             16  \n",
       "3             15  \n",
       "4              2  "
      ]
     },
     "execution_count": 15,
     "metadata": {},
     "output_type": "execute_result"
    }
   ],
   "source": [
    "# Create the ranking_df.\n",
    "ranking_df = clean_df.drop(['Unnamed: 0', 'published_date', 'book_type',\n",
    "       'description', 'price'], axis=1)\n",
    "ranking_df.head()"
   ]
  },
  {
   "cell_type": "code",
   "execution_count": 16,
   "metadata": {},
   "outputs": [],
   "source": [
    "# Export the booktype_df as a CSV file.\n",
    "ranking_df.to_csv(\"Resources/ranking.csv\", encoding='utf8', index=False)"
   ]
  },
  {
   "cell_type": "code",
   "execution_count": null,
   "metadata": {},
   "outputs": [],
   "source": []
  }
 ],
 "metadata": {
  "kernelspec": {
   "display_name": "mlenv",
   "language": "python",
   "name": "mlenv"
  },
  "language_info": {
   "codemirror_mode": {
    "name": "ipython",
    "version": 3
   },
   "file_extension": ".py",
   "mimetype": "text/x-python",
   "name": "python",
   "nbconvert_exporter": "python",
   "pygments_lexer": "ipython3",
   "version": "3.7.13"
  },
  "orig_nbformat": 4
 },
 "nbformat": 4,
 "nbformat_minor": 2
}
